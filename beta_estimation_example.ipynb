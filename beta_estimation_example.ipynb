{
 "cells": [
  {
   "cell_type": "code",
   "execution_count": 3,
   "metadata": {},
   "outputs": [],
   "source": [
    "import numpy as np\n",
    "\n",
    "from random import random, randint, sample, shuffle\n",
    "\n",
    "\n",
    "\n",
    "def Derivative(vcounts, beta):\n",
    "    k=len(vcounts)\n",
    "    N=sum(vcounts)\n",
    "    #print(k,N)\n",
    "    s1=0\n",
    "    for n in vcounts:\n",
    "        for m in range(n):\n",
    "            d=m+beta\n",
    "            s1+=1./d\n",
    "    s2=0\n",
    "    for n in range(N):\n",
    "        d=n+k*beta\n",
    "        s2+=k/d\n",
    "    q=s1-s2\n",
    "    return q\n",
    "\n",
    "\n",
    "def beta_star(vcounts, niter=10):\n",
    "\n",
    "    beta=[0.000001,0.00001,0.0001,0.001,0.01,0.1,1,10,100,1000,10000,100000,1000000]\n",
    "    for iter in range (niter):\n",
    "        if iter==0: betas=beta\n",
    "        b=betas[0]\n",
    "        #print(b)    \n",
    "        q=Derivative(vcounts,b)\n",
    "        s=-1\n",
    "        if q>0: s=1\n",
    "        #print(iter,q,s)\n",
    "        for b in betas:\n",
    "            q=Derivative(vcounts,b)\n",
    "            #print(b,q)\n",
    "            if q*s<0:\n",
    "            #change of sign\n",
    "                if iter==0:\n",
    "                    betas=[b/10+n*b/10 for n in range(11)]\n",
    "                    #print('i0 change',b)\n",
    "                    break\n",
    "                else:\n",
    "                    db=betas[1]-betas[0]\n",
    "                    betas=[b-db+db/10*n for n in range(11)]\n",
    "                    #print('change',b,q)\n",
    "                    break\n",
    "\n",
    "    # If no solution was found, select among extremes\n",
    "    if b == beta[-1]:\n",
    "        if Derivative(vcounts, b) < 0:\n",
    "            b = beta[0]\n",
    "    # Done\n",
    "    return b, Derivative(vcounts,b)"
   ]
  },
  {
   "cell_type": "code",
   "execution_count": 4,
   "metadata": {},
   "outputs": [],
   "source": [
    "# generate: \n",
    "#     1) a discrete distribution from a dirichlet with concentration parameter b, \n",
    "#     2) from this distribution, a multinomial of counts vcounts\n",
    "\n",
    "def generate_data(K=100,N = 100, b=1):\n",
    "\n",
    "    true_rhos = list(np.random.dirichlet(b*np.ones(K)))            \n",
    "    vcounts = list(np.random.multinomial(N, true_rhos)) \n",
    "    \n",
    "    return vcounts, true_rhos"
   ]
  },
  {
   "cell_type": "code",
   "execution_count": 7,
   "metadata": {},
   "outputs": [
    {
     "name": "stdout",
     "output_type": "stream",
     "text": [
      "\n",
      "VECTOR OF COUNTS\n",
      "[2, 65, 4, 46, 22, 1, 36, 27, 18, 16, 38, 56, 6, 38, 61, 17, 14, 35, 3, 14, 34, 6, 10, 15, 29, 10, 3, 13, 36, 5, 6, 7, 18, 5, 4, 11, 13, 16, 26, 5, 34, 4, 8, 20, 21, 38, 7, 39, 9, 29]\n",
      "\n",
      "TRUE DISTRIBUTION\n",
      "[0.004782089192513223, 0.0570008680185059, 0.0022085473417946394, 0.04613420932699636, 0.021257699805217013, 0.0010306329460259595, 0.027607351935710775, 0.024217437405007092, 0.017875011047443302, 0.017242824574127312, 0.038447711965343946, 0.060263618141692885, 0.007205342278448316, 0.033121355900722474, 0.05457742370161437, 0.01473872604683623, 0.015931369460080207, 0.0352468960863044, 0.002127623322066546, 0.021572888638857153, 0.03396152718908906, 0.012347683614976344, 0.010546709711445447, 0.020759795545096056, 0.02227870308179191, 0.012943849805202644, 0.004629808953304521, 0.007132057852381394, 0.031127129585081743, 0.006395380591952528, 0.00889044781626872, 0.007999500633450542, 0.024309040659153004, 0.004937825460531131, 0.005048785073795276, 0.013642387780608542, 0.014083658552868222, 0.01846683032528309, 0.03187372172868351, 0.0018079365686257097, 0.0328295451977176, 0.007573959794053239, 0.008786923630572454, 0.021101479932235847, 0.023683733513287005, 0.03370440697981977, 0.006385852674796432, 0.03771221357867018, 0.010322321229026097, 0.022127155804923897]\n",
      "\n",
      "estimated beta\n",
      "1.5728187500000002\n"
     ]
    }
   ],
   "source": [
    "\"\"\"\n",
    "Example:\n",
    "\n",
    "K = 50, N = 1000, beta_true = 1,5\n",
    "\n",
    "VECTOR OF COUNTS\n",
    "[2, 65, 4, 46, 22, 1, 36, 27, 18, 16, 38, 56, 6, 38, 61, 17, 14, 35, 3, 14, 34, 6, 10, 15, 29, 10, 3, 13, 36, 5, 6, 7, 18, 5, 4, 11, 13, 16, 26, 5, 34, 4, 8, 20, 21, 38, 7, 39, 9, 29]\n",
    "\n",
    "TRUE DISTRIBUTION\n",
    "[0.004782089192513223, 0.0570008680185059, 0.0022085473417946394, 0.04613420932699636, 0.021257699805217013, 0.0010306329460259595, 0.027607351935710775, 0.024217437405007092, 0.017875011047443302, 0.017242824574127312, 0.038447711965343946, 0.060263618141692885, 0.007205342278448316, 0.033121355900722474, 0.05457742370161437, 0.01473872604683623, 0.015931369460080207, 0.0352468960863044, 0.002127623322066546, 0.021572888638857153, 0.03396152718908906, 0.012347683614976344, 0.010546709711445447, 0.020759795545096056, 0.02227870308179191, 0.012943849805202644, 0.004629808953304521, 0.007132057852381394, 0.031127129585081743, 0.006395380591952528, 0.00889044781626872, 0.007999500633450542, 0.024309040659153004, 0.004937825460531131, 0.005048785073795276, 0.013642387780608542, 0.014083658552868222, 0.01846683032528309, 0.03187372172868351, 0.0018079365686257097, 0.0328295451977176, 0.007573959794053239, 0.008786923630572454, 0.021101479932235847, 0.023683733513287005, 0.03370440697981977, 0.006385852674796432, 0.03771221357867018, 0.010322321229026097, 0.022127155804923897]\n",
    "\n",
    "estimated beta\n",
    "1.5728187500000002\n",
    "\n",
    "\"\"\"\n",
    "\n",
    "ns, rhos = generate_data(K=50,N = 1000, b=1.5)\n",
    "\n",
    "print('\\nVECTOR OF COUNTS')\n",
    "print(ns)\n",
    "\n",
    "print('\\nTRUE DISTRIBUTION')\n",
    "print(rhos)\n",
    "\n",
    "beta, _ = beta_star(ns, niter=10)\n",
    "\n",
    "print('\\nestimated beta')\n",
    "\n",
    "print(beta)"
   ]
  },
  {
   "cell_type": "code",
   "execution_count": 11,
   "metadata": {},
   "outputs": [
    {
     "data": {
      "text/plain": [
       "0.36967165700000004"
      ]
     },
     "execution_count": 11,
     "metadata": {},
     "output_type": "execute_result"
    }
   ],
   "source": [
    "\"\"\"\n",
    "another example: given some generic counts ns\n",
    "\"\"\"\n",
    "\n",
    "ns = [0,30,1,2,0,0,9,6,3,1] \n",
    "\n",
    "beta, _ = beta_star(ns, niter=10)\n",
    "\n",
    "beta"
   ]
  },
  {
   "cell_type": "code",
   "execution_count": null,
   "metadata": {},
   "outputs": [],
   "source": []
  },
  {
   "cell_type": "code",
   "execution_count": null,
   "metadata": {},
   "outputs": [],
   "source": []
  },
  {
   "cell_type": "code",
   "execution_count": null,
   "metadata": {},
   "outputs": [],
   "source": []
  }
 ],
 "metadata": {
  "kernelspec": {
   "display_name": "Python 3 (ipykernel)",
   "language": "python",
   "name": "python3"
  },
  "language_info": {
   "codemirror_mode": {
    "name": "ipython",
    "version": 3
   },
   "file_extension": ".py",
   "mimetype": "text/x-python",
   "name": "python",
   "nbconvert_exporter": "python",
   "pygments_lexer": "ipython3",
   "version": "3.8.5"
  }
 },
 "nbformat": 4,
 "nbformat_minor": 4
}
